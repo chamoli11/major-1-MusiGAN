{
  "cells": [
    {
      "cell_type": "code",
      "execution_count": null,
      "metadata": {
        "colab": {
          "base_uri": "https://localhost:8080/"
        },
        "id": "JzCbpdo9XXvg",
        "outputId": "ce538cf2-bdbb-47a3-b134-3c2f4e15836e"
      },
      "outputs": [
        {
          "name": "stdout",
          "output_type": "stream",
          "text": [
            "Mounted at /content/gdrive\n"
          ]
        }
      ],
      "source": [
        "from google.colab import drive\n",
        "\n",
        "drive.mount(\"/content/gdrive\")"
      ]
    },
    {
      "cell_type": "code",
      "execution_count": null,
      "metadata": {
        "colab": {
          "base_uri": "https://localhost:8080/"
        },
        "id": "ReRqu8OZXU_Q",
        "outputId": "806b9d06-cc29-4027-c973-08e8087aa03d"
      },
      "outputs": [
        {
          "name": "stdout",
          "output_type": "stream",
          "text": [
            "/content/gdrive/MyDrive/major/FluidR3_GM.sf2\n",
            "/content/gdrive/MyDrive/major/classical-music-midi/tschai/ty_januar.mid\n",
            "/content/gdrive/MyDrive/major/classical-music-midi/tschai/ty_maerz.mid\n",
            "/content/gdrive/MyDrive/major/classical-music-midi/tschai/ty_mai.mid\n",
            "/content/gdrive/MyDrive/major/classical-music-midi/tschai/ty_juni.mid\n",
            "/content/gdrive/MyDrive/major/classical-music-midi/tschai/ty_juli.mid\n",
            "/content/gdrive/MyDrive/major/classical-music-midi/tschai/ty_august (2).mid\n",
            "/content/gdrive/MyDrive/major/classical-music-midi/tschai/ty_august (1).mid\n",
            "/content/gdrive/MyDrive/major/classical-music-midi/tschai/ty_august.mid\n",
            "/content/gdrive/MyDrive/major/classical-music-midi/tschai/ty_oktober.mid\n",
            "/content/gdrive/MyDrive/major/classical-music-midi/tschai/ty_november.mid\n",
            "/content/gdrive/MyDrive/major/classical-music-midi/tschai/ty_april.mid\n",
            "/content/gdrive/MyDrive/major/classical-music-midi/tschai/ty_dezember.mid\n",
            "/content/gdrive/MyDrive/major/classical-music-midi/tschai/ty_februar.mid\n",
            "/content/gdrive/MyDrive/major/classical-music-midi/tschai/ty_september.mid\n",
            "/content/gdrive/MyDrive/major/classical-music-midi/grieg/grieg_berceuse.mid\n",
            "/content/gdrive/MyDrive/major/classical-music-midi/grieg/grieg_spring.mid\n",
            "/content/gdrive/MyDrive/major/classical-music-midi/grieg/grieg_album.mid\n",
            "/content/gdrive/MyDrive/major/classical-music-midi/grieg/grieg_march.mid\n",
            "/content/gdrive/MyDrive/major/classical-music-midi/grieg/grieg_brooklet.mid\n",
            "/content/gdrive/MyDrive/major/classical-music-midi/grieg/grieg_once_upon_a_time.mid\n",
            "/content/gdrive/MyDrive/major/classical-music-midi/grieg/grieg_walzer.mid\n",
            "/content/gdrive/MyDrive/major/classical-music-midi/grieg/grieg_waechter.mid\n",
            "/content/gdrive/MyDrive/major/classical-music-midi/grieg/grieg_elfentanz.mid\n",
            "/content/gdrive/MyDrive/major/classical-music-midi/grieg/grieg_halling.mid\n",
            "/content/gdrive/MyDrive/major/classical-music-midi/grieg/grieg_butterfly.mid\n",
            "/content/gdrive/MyDrive/major/classical-music-midi/grieg/grieg_wanderer.mid\n",
            "/content/gdrive/MyDrive/major/classical-music-midi/grieg/grieg_voeglein.mid\n",
            "/content/gdrive/MyDrive/major/classical-music-midi/grieg/grieg_zwerge.mid\n",
            "/content/gdrive/MyDrive/major/classical-music-midi/grieg/grieg_wedding.mid\n",
            "/content/gdrive/MyDrive/major/classical-music-midi/grieg/grieg_kobold.mid\n",
            "/content/gdrive/MyDrive/major/classical-music-midi/muss/muss_1.mid\n",
            "/content/gdrive/MyDrive/major/classical-music-midi/muss/muss_2.mid\n",
            "/content/gdrive/MyDrive/major/classical-music-midi/muss/muss_3.mid\n",
            "/content/gdrive/MyDrive/major/classical-music-midi/muss/muss_4.mid\n",
            "/content/gdrive/MyDrive/major/classical-music-midi/muss/muss_5.mid\n",
            "/content/gdrive/MyDrive/major/classical-music-midi/muss/muss_6.mid\n",
            "/content/gdrive/MyDrive/major/classical-music-midi/muss/muss_7.mid\n",
            "/content/gdrive/MyDrive/major/classical-music-midi/muss/muss_8.mid\n",
            "/content/gdrive/MyDrive/major/classical-music-midi/mendelssohn/mendel_op30_1.mid\n",
            "/content/gdrive/MyDrive/major/classical-music-midi/mendelssohn/mendel_op53_5.mid\n",
            "/content/gdrive/MyDrive/major/classical-music-midi/mendelssohn/mendel_op62_3.mid\n",
            "/content/gdrive/MyDrive/major/classical-music-midi/mendelssohn/mendel_op62_4.mid\n",
            "/content/gdrive/MyDrive/major/classical-music-midi/mendelssohn/mendel_op62_5.mid\n",
            "/content/gdrive/MyDrive/major/classical-music-midi/mendelssohn/mendel_op19_1.mid\n",
            "/content/gdrive/MyDrive/major/classical-music-midi/mendelssohn/mendel_op19_2.mid\n",
            "/content/gdrive/MyDrive/major/classical-music-midi/mendelssohn/mendel_op19_3.mid\n",
            "/content/gdrive/MyDrive/major/classical-music-midi/mendelssohn/mendel_op19_4.mid\n",
            "/content/gdrive/MyDrive/major/classical-music-midi/mendelssohn/mendel_op19_5.mid\n",
            "/content/gdrive/MyDrive/major/classical-music-midi/mendelssohn/mendel_op19_6.mid\n",
            "/content/gdrive/MyDrive/major/classical-music-midi/mendelssohn/mendel_op30_2.mid\n",
            "/content/gdrive/MyDrive/major/classical-music-midi/mendelssohn/mendel_op30_4.mid\n",
            "/content/gdrive/MyDrive/major/classical-music-midi/mendelssohn/mendel_op30_3.mid\n",
            "/content/gdrive/MyDrive/major/classical-music-midi/mendelssohn/mendel_op30_5.mid\n",
            "/content/gdrive/MyDrive/major/classical-music-midi/schubert/schubert_D850_1.mid\n",
            "/content/gdrive/MyDrive/major/classical-music-midi/schubert/schubert_D850_2.mid\n",
            "/content/gdrive/MyDrive/major/classical-music-midi/schubert/schubert_D850_3.mid\n",
            "/content/gdrive/MyDrive/major/classical-music-midi/schubert/schubert_D850_4.mid\n",
            "/content/gdrive/MyDrive/major/classical-music-midi/schubert/schub_d760_1.mid\n",
            "/content/gdrive/MyDrive/major/classical-music-midi/schubert/schub_d760_2.mid\n",
            "/content/gdrive/MyDrive/major/classical-music-midi/schubert/schub_d760_3.mid\n",
            "/content/gdrive/MyDrive/major/classical-music-midi/schubert/schub_d760_4.mid\n",
            "/content/gdrive/MyDrive/major/classical-music-midi/schubert/schumm-1.mid\n",
            "/content/gdrive/MyDrive/major/classical-music-midi/schubert/schumm-2.mid\n",
            "/content/gdrive/MyDrive/major/classical-music-midi/schubert/schumm-3.mid\n",
            "/content/gdrive/MyDrive/major/classical-music-midi/schubert/schumm-4.mid\n",
            "/content/gdrive/MyDrive/major/classical-music-midi/schubert/schumm-5.mid\n",
            "/content/gdrive/MyDrive/major/classical-music-midi/schubert/schumm-6.mid\n",
            "/content/gdrive/MyDrive/major/classical-music-midi/schubert/schu_143_1.mid\n",
            "/content/gdrive/MyDrive/major/classical-music-midi/schubert/schu_143_2.mid\n",
            "/content/gdrive/MyDrive/major/classical-music-midi/schubert/schu_143_3.mid\n",
            "/content/gdrive/MyDrive/major/classical-music-midi/schubert/schuim-1.mid\n",
            "/content/gdrive/MyDrive/major/classical-music-midi/schubert/schuim-2.mid\n",
            "/content/gdrive/MyDrive/major/classical-music-midi/schubert/schuim-3.mid\n",
            "/content/gdrive/MyDrive/major/classical-music-midi/schubert/schuim-4.mid\n",
            "/content/gdrive/MyDrive/major/classical-music-midi/schubert/schubert_D935_1.mid\n",
            "/content/gdrive/MyDrive/major/classical-music-midi/schubert/schubert_D935_2.mid\n",
            "/content/gdrive/MyDrive/major/classical-music-midi/schubert/schubert_D935_3.mid\n",
            "/content/gdrive/MyDrive/major/classical-music-midi/schubert/schubert_D935_4.mid\n",
            "/content/gdrive/MyDrive/major/classical-music-midi/schubert/schub_d960_1.mid\n",
            "/content/gdrive/MyDrive/major/classical-music-midi/schubert/schub_d960_2.mid\n",
            "/content/gdrive/MyDrive/major/classical-music-midi/schubert/schub_d960_3.mid\n",
            "/content/gdrive/MyDrive/major/classical-music-midi/schubert/schub_d960_4.mid\n",
            "/content/gdrive/MyDrive/major/classical-music-midi/schubert/schum_abegg.mid\n",
            "/content/gdrive/MyDrive/major/classical-music-midi/liszt/liz_donjuan.mid\n",
            "/content/gdrive/MyDrive/major/classical-music-midi/liszt/liz_liebestraum.mid\n",
            "/content/gdrive/MyDrive/major/classical-music-midi/liszt/liz_et1.mid\n",
            "/content/gdrive/MyDrive/major/classical-music-midi/liszt/liz_et2.mid\n",
            "/content/gdrive/MyDrive/major/classical-music-midi/liszt/liz_et3.mid\n",
            "/content/gdrive/MyDrive/major/classical-music-midi/liszt/liz_et4.mid\n",
            "/content/gdrive/MyDrive/major/classical-music-midi/liszt/liz_et5.mid\n",
            "/content/gdrive/MyDrive/major/classical-music-midi/liszt/liz_et6.mid\n",
            "/content/gdrive/MyDrive/major/classical-music-midi/liszt/liz_et_trans4.mid\n",
            "/content/gdrive/MyDrive/major/classical-music-midi/liszt/liz_et_trans8.mid\n",
            "/content/gdrive/MyDrive/major/classical-music-midi/liszt/liz_et_trans5.mid\n",
            "/content/gdrive/MyDrive/major/classical-music-midi/liszt/liz_rhap02.mid\n",
            "/content/gdrive/MyDrive/major/classical-music-midi/liszt/liz_rhap09.mid\n",
            "/content/gdrive/MyDrive/major/classical-music-midi/liszt/liz_rhap10.mid\n",
            "/content/gdrive/MyDrive/major/classical-music-midi/liszt/liz_rhap12.mid\n",
            "/content/gdrive/MyDrive/major/classical-music-midi/liszt/liz_rhap15.mid\n",
            "/content/gdrive/MyDrive/major/classical-music-midi/schumann/scn15_6.mid\n",
            "/content/gdrive/MyDrive/major/classical-music-midi/schumann/scn15_7.mid\n",
            "/content/gdrive/MyDrive/major/classical-music-midi/schumann/scn15_8.mid\n",
            "/content/gdrive/MyDrive/major/classical-music-midi/schumann/scn15_9.mid\n",
            "/content/gdrive/MyDrive/major/classical-music-midi/schumann/scn15_10.mid\n",
            "/content/gdrive/MyDrive/major/classical-music-midi/schumann/scn16_1.mid\n",
            "/content/gdrive/MyDrive/major/classical-music-midi/schumann/scn16_2.mid\n",
            "/content/gdrive/MyDrive/major/classical-music-midi/schumann/scn16_3.mid\n",
            "/content/gdrive/MyDrive/major/classical-music-midi/schumann/scn16_4.mid\n",
            "/content/gdrive/MyDrive/major/classical-music-midi/schumann/scn16_5.mid\n",
            "/content/gdrive/MyDrive/major/classical-music-midi/schumann/scn16_6.mid\n",
            "/content/gdrive/MyDrive/major/classical-music-midi/schumann/scn16_7.mid\n",
            "/content/gdrive/MyDrive/major/classical-music-midi/schumann/scn16_8.mid\n",
            "/content/gdrive/MyDrive/major/classical-music-midi/schumann/scn68_10.mid\n",
            "/content/gdrive/MyDrive/major/classical-music-midi/schumann/scn68_12.mid\n",
            "/content/gdrive/MyDrive/major/classical-music-midi/schumann/scn15_1.mid\n",
            "/content/gdrive/MyDrive/major/classical-music-midi/schumann/scn15_11.mid\n",
            "/content/gdrive/MyDrive/major/classical-music-midi/schumann/scn15_12.mid\n",
            "/content/gdrive/MyDrive/major/classical-music-midi/schumann/scn15_13.mid\n",
            "/content/gdrive/MyDrive/major/classical-music-midi/schumann/scn15_3.mid\n",
            "/content/gdrive/MyDrive/major/classical-music-midi/schumann/scn15_2.mid\n",
            "/content/gdrive/MyDrive/major/classical-music-midi/schumann/scn15_4.mid\n",
            "/content/gdrive/MyDrive/major/classical-music-midi/schumann/scn15_5.mid\n",
            "/content/gdrive/MyDrive/major/classical-music-midi/haydn/haydn_7_1.mid\n",
            "/content/gdrive/MyDrive/major/classical-music-midi/haydn/haydn_7_2.mid\n",
            "/content/gdrive/MyDrive/major/classical-music-midi/haydn/haydn_7_3.mid\n",
            "/content/gdrive/MyDrive/major/classical-music-midi/haydn/haydn_9_1.mid\n",
            "/content/gdrive/MyDrive/major/classical-music-midi/haydn/haydn_9_2.mid\n",
            "/content/gdrive/MyDrive/major/classical-music-midi/haydn/haydn_9_3.mid\n",
            "/content/gdrive/MyDrive/major/classical-music-midi/haydn/haydn_8_1.mid\n",
            "/content/gdrive/MyDrive/major/classical-music-midi/haydn/haydn_8_2.mid\n",
            "/content/gdrive/MyDrive/major/classical-music-midi/haydn/haydn_8_3.mid\n",
            "/content/gdrive/MyDrive/major/classical-music-midi/haydn/haydn_8_4.mid\n",
            "/content/gdrive/MyDrive/major/classical-music-midi/haydn/hay_40_1.mid\n",
            "/content/gdrive/MyDrive/major/classical-music-midi/haydn/hay_40_2.mid\n",
            "/content/gdrive/MyDrive/major/classical-music-midi/haydn/haydn_35_1.mid\n",
            "/content/gdrive/MyDrive/major/classical-music-midi/haydn/haydn_35_2.mid\n",
            "/content/gdrive/MyDrive/major/classical-music-midi/haydn/haydn_35_3.mid\n",
            "/content/gdrive/MyDrive/major/classical-music-midi/haydn/haydn_43_1.mid\n",
            "/content/gdrive/MyDrive/major/classical-music-midi/haydn/haydn_43_2.mid\n",
            "/content/gdrive/MyDrive/major/classical-music-midi/haydn/haydn_43_3.mid\n",
            "/content/gdrive/MyDrive/major/classical-music-midi/haydn/haydn_33_1.mid\n",
            "/content/gdrive/MyDrive/major/classical-music-midi/haydn/haydn_33_2.mid\n",
            "/content/gdrive/MyDrive/major/classical-music-midi/haydn/haydn_33_3.mid\n",
            "/content/gdrive/MyDrive/major/classical-music-midi/mozart/mz_311_2.mid\n",
            "/content/gdrive/MyDrive/major/classical-music-midi/mozart/mz_311_1.mid\n",
            "/content/gdrive/MyDrive/major/classical-music-midi/mozart/mz_311_3.mid\n",
            "/content/gdrive/MyDrive/major/classical-music-midi/mozart/mz_330_1.mid\n",
            "/content/gdrive/MyDrive/major/classical-music-midi/mozart/mz_330_2.mid\n",
            "/content/gdrive/MyDrive/major/classical-music-midi/mozart/mz_330_3.mid\n",
            "/content/gdrive/MyDrive/major/classical-music-midi/mozart/mz_331_1.mid\n",
            "/content/gdrive/MyDrive/major/classical-music-midi/mozart/mz_331_2.mid\n",
            "/content/gdrive/MyDrive/major/classical-music-midi/mozart/mz_331_3.mid\n",
            "/content/gdrive/MyDrive/major/classical-music-midi/mozart/mz_332_1.mid\n",
            "/content/gdrive/MyDrive/major/classical-music-midi/mozart/mz_332_2.mid\n",
            "/content/gdrive/MyDrive/major/classical-music-midi/mozart/mz_332_3.mid\n",
            "/content/gdrive/MyDrive/major/classical-music-midi/mozart/mz_333_1.mid\n",
            "/content/gdrive/MyDrive/major/classical-music-midi/mozart/mz_333_2.mid\n",
            "/content/gdrive/MyDrive/major/classical-music-midi/mozart/mz_333_3.mid\n",
            "/content/gdrive/MyDrive/major/classical-music-midi/mozart/mz_545_1.mid\n",
            "/content/gdrive/MyDrive/major/classical-music-midi/mozart/mz_545_2.mid\n",
            "/content/gdrive/MyDrive/major/classical-music-midi/mozart/mz_545_3.mid\n",
            "/content/gdrive/MyDrive/major/classical-music-midi/mozart/mz_570_1.mid\n",
            "/content/gdrive/MyDrive/major/classical-music-midi/mozart/mz_570_2.mid\n",
            "/content/gdrive/MyDrive/major/classical-music-midi/mozart/mz_570_3.mid\n",
            "/content/gdrive/MyDrive/major/classical-music-midi/granados/gra_esp_2.mid\n",
            "/content/gdrive/MyDrive/major/classical-music-midi/granados/gra_esp_3.mid\n",
            "/content/gdrive/MyDrive/major/classical-music-midi/granados/gra_esp_4.mid\n",
            "/content/gdrive/MyDrive/major/classical-music-midi/debussy/debussy_cc_1.mid\n",
            "/content/gdrive/MyDrive/major/classical-music-midi/debussy/debussy_cc_2.mid\n",
            "/content/gdrive/MyDrive/major/classical-music-midi/debussy/debussy_cc_3.mid\n",
            "/content/gdrive/MyDrive/major/classical-music-midi/debussy/debussy_cc_4.mid\n",
            "/content/gdrive/MyDrive/major/classical-music-midi/debussy/debussy_cc_6.mid\n",
            "/content/gdrive/MyDrive/major/classical-music-midi/debussy/deb_prel.mid\n",
            "/content/gdrive/MyDrive/major/classical-music-midi/debussy/deb_menu.mid\n",
            "/content/gdrive/MyDrive/major/classical-music-midi/debussy/DEB_CLAI.MID\n",
            "/content/gdrive/MyDrive/major/classical-music-midi/debussy/DEB_PASS.MID\n",
            "/content/gdrive/MyDrive/major/classical-music-midi/burgm/burg_perlen.mid\n",
            "/content/gdrive/MyDrive/major/classical-music-midi/burgm/burg_quelle.mid\n",
            "/content/gdrive/MyDrive/major/classical-music-midi/burgm/burg_gewitter.mid\n",
            "/content/gdrive/MyDrive/major/classical-music-midi/burgm/burg_erwachen.mid\n",
            "/content/gdrive/MyDrive/major/classical-music-midi/burgm/burg_agitato.mid\n",
            "/content/gdrive/MyDrive/major/classical-music-midi/burgm/burg_trennung.mid\n",
            "/content/gdrive/MyDrive/major/classical-music-midi/burgm/burg_sylphen.mid\n",
            "/content/gdrive/MyDrive/major/classical-music-midi/burgm/burg_spinnerlied.mid\n",
            "/content/gdrive/MyDrive/major/classical-music-midi/burgm/burg_geschwindigkeit.mid\n",
            "/content/gdrive/MyDrive/major/classical-music-midi/brahms/brahms_opus1_1.mid\n",
            "/content/gdrive/MyDrive/major/classical-music-midi/brahms/brahms_opus1_2.mid\n",
            "/content/gdrive/MyDrive/major/classical-music-midi/brahms/brahms_opus1_3.mid\n",
            "/content/gdrive/MyDrive/major/classical-music-midi/brahms/brahms_opus1_4.mid\n",
            "/content/gdrive/MyDrive/major/classical-music-midi/brahms/brahms_opus117_1.mid\n",
            "/content/gdrive/MyDrive/major/classical-music-midi/brahms/brahms_opus117_2.mid\n",
            "/content/gdrive/MyDrive/major/classical-music-midi/brahms/br_im5.mid\n",
            "/content/gdrive/MyDrive/major/classical-music-midi/brahms/br_im2.mid\n",
            "/content/gdrive/MyDrive/major/classical-music-midi/brahms/BR_IM6.MID\n",
            "/content/gdrive/MyDrive/major/classical-music-midi/brahms/br_rhap.mid\n",
            "/content/gdrive/MyDrive/major/classical-music-midi/chopin/chpn_op10_e05.mid\n",
            "/content/gdrive/MyDrive/major/classical-music-midi/chopin/chpn_op10_e12.mid\n",
            "/content/gdrive/MyDrive/major/classical-music-midi/chopin/chpn_op10_e01.mid\n",
            "/content/gdrive/MyDrive/major/classical-music-midi/chopin/chpn_op7_1.mid\n",
            "/content/gdrive/MyDrive/major/classical-music-midi/chopin/chpn_op7_2.mid\n",
            "/content/gdrive/MyDrive/major/classical-music-midi/chopin/chp_op18.mid\n",
            "/content/gdrive/MyDrive/major/classical-music-midi/chopin/chpn_op23.mid\n",
            "/content/gdrive/MyDrive/major/classical-music-midi/chopin/chpn_op25_e2.mid\n",
            "/content/gdrive/MyDrive/major/classical-music-midi/chopin/chpn_op25_e3.mid\n",
            "/content/gdrive/MyDrive/major/classical-music-midi/chopin/chpn_op25_e4.mid\n",
            "/content/gdrive/MyDrive/major/classical-music-midi/chopin/chpn_op25_e11.mid\n",
            "/content/gdrive/MyDrive/major/classical-music-midi/chopin/chpn_op25_e12.mid\n",
            "/content/gdrive/MyDrive/major/classical-music-midi/chopin/chpn_op27_1.mid\n",
            "/content/gdrive/MyDrive/major/classical-music-midi/chopin/chpn_op27_2.mid\n",
            "/content/gdrive/MyDrive/major/classical-music-midi/chopin/chpn-p1.mid\n",
            "/content/gdrive/MyDrive/major/classical-music-midi/chopin/chpn-p2.mid\n",
            "/content/gdrive/MyDrive/major/classical-music-midi/chopin/chpn-p3.mid\n",
            "/content/gdrive/MyDrive/major/classical-music-midi/chopin/chpn-p4.mid\n",
            "/content/gdrive/MyDrive/major/classical-music-midi/chopin/chpn-p5.mid\n",
            "/content/gdrive/MyDrive/major/classical-music-midi/chopin/chpn-p6.mid\n",
            "/content/gdrive/MyDrive/major/classical-music-midi/chopin/chpn-p7.mid\n",
            "/content/gdrive/MyDrive/major/classical-music-midi/chopin/chpn-p8.mid\n",
            "/content/gdrive/MyDrive/major/classical-music-midi/chopin/chpn-p10.mid\n",
            "/content/gdrive/MyDrive/major/classical-music-midi/chopin/chpn-p11.mid\n",
            "/content/gdrive/MyDrive/major/classical-music-midi/chopin/chpn-p12.mid\n",
            "/content/gdrive/MyDrive/major/classical-music-midi/chopin/chpn-p13.mid\n",
            "/content/gdrive/MyDrive/major/classical-music-midi/chopin/chpn-p14.mid\n",
            "/content/gdrive/MyDrive/major/classical-music-midi/chopin/chpn-p15.mid\n",
            "/content/gdrive/MyDrive/major/classical-music-midi/chopin/chpn-p16.mid\n",
            "/content/gdrive/MyDrive/major/classical-music-midi/chopin/chpn-p17.mid\n",
            "/content/gdrive/MyDrive/major/classical-music-midi/chopin/chpn-p18.mid\n",
            "/content/gdrive/MyDrive/major/classical-music-midi/chopin/chpn-p19.mid\n",
            "/content/gdrive/MyDrive/major/classical-music-midi/chopin/chpn-p20.mid\n",
            "/content/gdrive/MyDrive/major/classical-music-midi/chopin/chpn-p21.mid\n",
            "/content/gdrive/MyDrive/major/classical-music-midi/chopin/chpn-p22.mid\n",
            "/content/gdrive/MyDrive/major/classical-music-midi/chopin/chpn-p23.mid\n",
            "/content/gdrive/MyDrive/major/classical-music-midi/chopin/chpn-p24.mid\n",
            "/content/gdrive/MyDrive/major/classical-music-midi/chopin/chp_op31.mid\n",
            "/content/gdrive/MyDrive/major/classical-music-midi/chopin/chpn_op33_2.mid\n",
            "/content/gdrive/MyDrive/major/classical-music-midi/chopin/chpn_op33_4.mid\n",
            "/content/gdrive/MyDrive/major/classical-music-midi/chopin/chpn_op35_1.mid\n",
            "/content/gdrive/MyDrive/major/classical-music-midi/chopin/chpn_op35_2.mid\n",
            "/content/gdrive/MyDrive/major/classical-music-midi/chopin/chpn_op35_3.mid\n",
            "/content/gdrive/MyDrive/major/classical-music-midi/chopin/chpn_op35_4.mid\n",
            "/content/gdrive/MyDrive/major/classical-music-midi/chopin/chpn_op53.mid\n",
            "/content/gdrive/MyDrive/major/classical-music-midi/chopin/chpn_op66.mid\n",
            "/content/gdrive/MyDrive/major/classical-music-midi/chopin/chpn_op25_e1.mid\n",
            "/content/gdrive/MyDrive/major/classical-music-midi/chopin/chpn-p9.mid\n",
            "/content/gdrive/MyDrive/major/classical-music-midi/borodin/bor_ps1.mid\n",
            "/content/gdrive/MyDrive/major/classical-music-midi/borodin/bor_ps2.mid\n",
            "/content/gdrive/MyDrive/major/classical-music-midi/borodin/bor_ps3.mid\n",
            "/content/gdrive/MyDrive/major/classical-music-midi/borodin/bor_ps4.mid\n",
            "/content/gdrive/MyDrive/major/classical-music-midi/borodin/bor_ps5.mid\n",
            "/content/gdrive/MyDrive/major/classical-music-midi/borodin/bor_ps6.mid\n",
            "/content/gdrive/MyDrive/major/classical-music-midi/borodin/bor_ps7.mid\n",
            "/content/gdrive/MyDrive/major/classical-music-midi/balakir/islamei.mid\n",
            "/content/gdrive/MyDrive/major/classical-music-midi/beeth/beethoven_opus10_1.mid\n",
            "/content/gdrive/MyDrive/major/classical-music-midi/beeth/beethoven_opus10_2.mid\n",
            "/content/gdrive/MyDrive/major/classical-music-midi/beeth/beethoven_opus10_3.mid\n",
            "/content/gdrive/MyDrive/major/classical-music-midi/beeth/pathetique_1.mid\n",
            "/content/gdrive/MyDrive/major/classical-music-midi/beeth/pathetique_3.mid\n",
            "/content/gdrive/MyDrive/major/classical-music-midi/beeth/pathetique_2.mid\n",
            "/content/gdrive/MyDrive/major/classical-music-midi/beeth/beethoven_opus22_1.mid\n",
            "/content/gdrive/MyDrive/major/classical-music-midi/beeth/beethoven_opus22_2.mid\n",
            "/content/gdrive/MyDrive/major/classical-music-midi/beeth/beethoven_opus22_3.mid\n",
            "/content/gdrive/MyDrive/major/classical-music-midi/beeth/beethoven_opus22_4.mid\n",
            "/content/gdrive/MyDrive/major/classical-music-midi/beeth/mond_1.mid\n",
            "/content/gdrive/MyDrive/major/classical-music-midi/beeth/mond_2.mid\n",
            "/content/gdrive/MyDrive/major/classical-music-midi/beeth/mond_3.mid\n",
            "/content/gdrive/MyDrive/major/classical-music-midi/beeth/waldstein_1.mid\n",
            "/content/gdrive/MyDrive/major/classical-music-midi/beeth/waldstein_2.mid\n",
            "/content/gdrive/MyDrive/major/classical-music-midi/beeth/waldstein_3.mid\n",
            "/content/gdrive/MyDrive/major/classical-music-midi/beeth/appass_1.mid\n",
            "/content/gdrive/MyDrive/major/classical-music-midi/beeth/appass_2.mid\n",
            "/content/gdrive/MyDrive/major/classical-music-midi/beeth/appass_3.mid\n",
            "/content/gdrive/MyDrive/major/classical-music-midi/beeth/beethoven_les_adieux_1.mid\n",
            "/content/gdrive/MyDrive/major/classical-music-midi/beeth/beethoven_les_adieux_2.mid\n",
            "/content/gdrive/MyDrive/major/classical-music-midi/beeth/beethoven_les_adieux_3.mid\n",
            "/content/gdrive/MyDrive/major/classical-music-midi/beeth/beethoven_hammerklavier_1.mid\n",
            "/content/gdrive/MyDrive/major/classical-music-midi/beeth/beethoven_hammerklavier_2.mid\n",
            "/content/gdrive/MyDrive/major/classical-music-midi/beeth/beethoven_hammerklavier_3.mid\n",
            "/content/gdrive/MyDrive/major/classical-music-midi/beeth/beethoven_hammerklavier_4.mid\n",
            "/content/gdrive/MyDrive/major/classical-music-midi/beeth/elise.mid\n",
            "/content/gdrive/MyDrive/major/classical-music-midi/beeth/beethoven_opus90_1.mid\n",
            "/content/gdrive/MyDrive/major/classical-music-midi/beeth/beethoven_opus90_2.mid\n",
            "/content/gdrive/MyDrive/major/classical-music-midi/bach/bach_846.mid\n",
            "/content/gdrive/MyDrive/major/classical-music-midi/bach/bach_847.mid\n",
            "/content/gdrive/MyDrive/major/classical-music-midi/bach/bach_850.mid\n",
            "/content/gdrive/MyDrive/major/classical-music-midi/albeniz/alb_esp1.mid\n",
            "/content/gdrive/MyDrive/major/classical-music-midi/albeniz/alb_esp2.mid\n",
            "/content/gdrive/MyDrive/major/classical-music-midi/albeniz/alb_esp3.mid\n",
            "/content/gdrive/MyDrive/major/classical-music-midi/albeniz/alb_esp4.mid\n",
            "/content/gdrive/MyDrive/major/classical-music-midi/albeniz/alb_esp5.mid\n",
            "/content/gdrive/MyDrive/major/classical-music-midi/albeniz/alb_esp6.mid\n",
            "/content/gdrive/MyDrive/major/classical-music-midi/albeniz/alb_se1.mid\n",
            "/content/gdrive/MyDrive/major/classical-music-midi/albeniz/alb_se2.mid\n",
            "/content/gdrive/MyDrive/major/classical-music-midi/albeniz/alb_se3.mid\n",
            "/content/gdrive/MyDrive/major/classical-music-midi/albeniz/alb_se4.mid\n",
            "/content/gdrive/MyDrive/major/classical-music-midi/albeniz/alb_se5.mid\n",
            "/content/gdrive/MyDrive/major/classical-music-midi/albeniz/alb_se6.mid\n",
            "/content/gdrive/MyDrive/major/classical-music-midi/albeniz/alb_se7.mid\n",
            "/content/gdrive/MyDrive/major/classical-music-midi/albeniz/alb_se8.mid\n",
            "/content/gdrive/MyDrive/major/music-generated-lstm/Melody_Generated_1.wav\n",
            "/content/gdrive/MyDrive/major/music-generated-lstm/Corpus_Snippet.wav\n",
            "/content/gdrive/MyDrive/major/music-generated-lstm/Melody_Generated 2.wav\n",
            "/content/gdrive/MyDrive/major/music-generated-lstm/Melody_Snippet_Cleaned.wav\n",
            "/content/gdrive/MyDrive/major/music-generated-lstm/sarthak.mid\n",
            "/content/gdrive/MyDrive/major/music-generated-lstm/anshul.mid\n",
            "Requirement already satisfied: music21 in /usr/local/lib/python3.10/dist-packages (9.1.0)\n",
            "Requirement already satisfied: chardet in /usr/local/lib/python3.10/dist-packages (from music21) (5.2.0)\n",
            "Requirement already satisfied: joblib in /usr/local/lib/python3.10/dist-packages (from music21) (1.3.2)\n",
            "Requirement already satisfied: jsonpickle in /usr/local/lib/python3.10/dist-packages (from music21) (3.0.2)\n",
            "Requirement already satisfied: matplotlib in /usr/local/lib/python3.10/dist-packages (from music21) (3.7.1)\n",
            "Requirement already satisfied: more-itertools in /usr/local/lib/python3.10/dist-packages (from music21) (10.1.0)\n",
            "Requirement already satisfied: numpy in /usr/local/lib/python3.10/dist-packages (from music21) (1.23.5)\n",
            "Requirement already satisfied: requests in /usr/local/lib/python3.10/dist-packages (from music21) (2.31.0)\n",
            "Requirement already satisfied: webcolors>=1.5 in /usr/local/lib/python3.10/dist-packages (from music21) (1.13)\n",
            "Requirement already satisfied: contourpy>=1.0.1 in /usr/local/lib/python3.10/dist-packages (from matplotlib->music21) (1.2.0)\n",
            "Requirement already satisfied: cycler>=0.10 in /usr/local/lib/python3.10/dist-packages (from matplotlib->music21) (0.12.1)\n",
            "Requirement already satisfied: fonttools>=4.22.0 in /usr/local/lib/python3.10/dist-packages (from matplotlib->music21) (4.45.1)\n",
            "Requirement already satisfied: kiwisolver>=1.0.1 in /usr/local/lib/python3.10/dist-packages (from matplotlib->music21) (1.4.5)\n",
            "Requirement already satisfied: packaging>=20.0 in /usr/local/lib/python3.10/dist-packages (from matplotlib->music21) (23.2)\n",
            "Requirement already satisfied: pillow>=6.2.0 in /usr/local/lib/python3.10/dist-packages (from matplotlib->music21) (9.4.0)\n",
            "Requirement already satisfied: pyparsing>=2.3.1 in /usr/local/lib/python3.10/dist-packages (from matplotlib->music21) (3.1.1)\n",
            "Requirement already satisfied: python-dateutil>=2.7 in /usr/local/lib/python3.10/dist-packages (from matplotlib->music21) (2.8.2)\n",
            "Requirement already satisfied: charset-normalizer<4,>=2 in /usr/local/lib/python3.10/dist-packages (from requests->music21) (3.3.2)\n",
            "Requirement already satisfied: idna<4,>=2.5 in /usr/local/lib/python3.10/dist-packages (from requests->music21) (3.6)\n",
            "Requirement already satisfied: urllib3<3,>=1.21.1 in /usr/local/lib/python3.10/dist-packages (from requests->music21) (2.0.7)\n",
            "Requirement already satisfied: certifi>=2017.4.17 in /usr/local/lib/python3.10/dist-packages (from requests->music21) (2023.11.17)\n",
            "Requirement already satisfied: six>=1.5 in /usr/local/lib/python3.10/dist-packages (from python-dateutil>=2.7->matplotlib->music21) (1.16.0)\n",
            "Reading package lists... Done\n",
            "Building dependency tree... Done\n",
            "Reading state information... Done\n",
            "The following additional packages will be installed:\n",
            "  dvisvgm fonts-droid-fallback fonts-lmodern fonts-noto-mono fonts-urw-base35 ghostscript\n",
            "  libfontenc1 libgs9 libgs9-common libidn12 libijs-0.35 libjbig2dec0 libkpathsea6 libptexenc1\n",
            "  libsynctex2 libteckit0 libtexlua53 libtexluajit2 libwoff1 libzzip-0-13 lilypond-data\n",
            "  lilypond-fonts lmodern poppler-data t1utils tex-common texlive-base texlive-binaries\n",
            "  texlive-latex-base xfonts-encodings xfonts-utils\n",
            "Suggested packages:\n",
            "  fonts-noto fonts-freefont-otf | fonts-freefont-ttf fonts-texgyre ghostscript-x lilypond-doc\n",
            "  python3-lxml poppler-utils fonts-japanese-mincho | fonts-ipafont-mincho fonts-japanese-gothic\n",
            "  | fonts-ipafont-gothic fonts-arphic-ukai fonts-arphic-uming fonts-nanum debhelper perl-tk xpdf\n",
            "  | pdf-viewer xzdec texlive-latex-base-doc\n",
            "The following NEW packages will be installed:\n",
            "  dvisvgm fonts-droid-fallback fonts-lmodern fonts-noto-mono fonts-urw-base35 ghostscript\n",
            "  libfontenc1 libgs9 libgs9-common libidn12 libijs-0.35 libjbig2dec0 libkpathsea6 libptexenc1\n",
            "  libsynctex2 libteckit0 libtexlua53 libtexluajit2 libwoff1 libzzip-0-13 lilypond lilypond-data\n",
            "  lilypond-fonts lmodern poppler-data t1utils tex-common texlive-base texlive-binaries\n",
            "  texlive-latex-base xfonts-encodings xfonts-utils\n",
            "0 upgraded, 32 newly installed, 0 to remove and 15 not upgraded.\n",
            "Need to get 70.9 MB of archives.\n",
            "After this operation, 242 MB of additional disk space will be used.\n",
            "Get:1 http://archive.ubuntu.com/ubuntu jammy/main amd64 fonts-droid-fallback all 1:6.0.1r16-1.1build1 [1,805 kB]\n",
            "Get:2 http://archive.ubuntu.com/ubuntu jammy/main amd64 poppler-data all 0.4.11-1 [2,171 kB]\n",
            "Get:3 http://archive.ubuntu.com/ubuntu jammy/universe amd64 tex-common all 6.17 [33.7 kB]\n",
            "Get:4 http://archive.ubuntu.com/ubuntu jammy/main amd64 fonts-urw-base35 all 20200910-1 [6,367 kB]\n",
            "Get:5 http://archive.ubuntu.com/ubuntu jammy-updates/main amd64 libgs9-common all 9.55.0~dfsg1-0ubuntu5.5 [752 kB]\n",
            "Get:6 http://archive.ubuntu.com/ubuntu jammy-updates/main amd64 libidn12 amd64 1.38-4ubuntu1 [60.0 kB]\n",
            "Get:7 http://archive.ubuntu.com/ubuntu jammy/main amd64 libijs-0.35 amd64 0.35-15build2 [16.5 kB]\n",
            "Get:8 http://archive.ubuntu.com/ubuntu jammy/main amd64 libjbig2dec0 amd64 0.19-3build2 [64.7 kB]\n",
            "Get:9 http://archive.ubuntu.com/ubuntu jammy-updates/main amd64 libgs9 amd64 9.55.0~dfsg1-0ubuntu5.5 [5,030 kB]\n",
            "Get:10 http://archive.ubuntu.com/ubuntu jammy-updates/main amd64 libkpathsea6 amd64 2021.20210626.59705-1ubuntu0.1 [60.3 kB]\n",
            "Get:11 http://archive.ubuntu.com/ubuntu jammy/main amd64 libwoff1 amd64 1.0.2-1build4 [45.2 kB]\n",
            "Get:12 http://archive.ubuntu.com/ubuntu jammy/universe amd64 dvisvgm amd64 2.13.1-1 [1,221 kB]\n",
            "Get:13 http://archive.ubuntu.com/ubuntu jammy/universe amd64 fonts-lmodern all 2.004.5-6.1 [4,532 kB]\n",
            "Get:14 http://archive.ubuntu.com/ubuntu jammy/main amd64 fonts-noto-mono all 20201225-1build1 [397 kB]\n",
            "Get:15 http://archive.ubuntu.com/ubuntu jammy-updates/main amd64 ghostscript amd64 9.55.0~dfsg1-0ubuntu5.5 [49.5 kB]\n",
            "Get:16 http://archive.ubuntu.com/ubuntu jammy/main amd64 libfontenc1 amd64 1:1.1.4-1build3 [14.7 kB]\n",
            "Get:17 http://archive.ubuntu.com/ubuntu jammy-updates/main amd64 libptexenc1 amd64 2021.20210626.59705-1ubuntu0.1 [39.1 kB]\n",
            "Get:18 http://archive.ubuntu.com/ubuntu jammy-updates/main amd64 libsynctex2 amd64 2021.20210626.59705-1ubuntu0.1 [55.5 kB]\n",
            "Get:19 http://archive.ubuntu.com/ubuntu jammy/universe amd64 libteckit0 amd64 2.5.11+ds1-1 [421 kB]\n",
            "Get:20 http://archive.ubuntu.com/ubuntu jammy-updates/main amd64 libtexlua53 amd64 2021.20210626.59705-1ubuntu0.1 [120 kB]\n",
            "Get:21 http://archive.ubuntu.com/ubuntu jammy-updates/main amd64 libtexluajit2 amd64 2021.20210626.59705-1ubuntu0.1 [267 kB]\n",
            "Get:22 http://archive.ubuntu.com/ubuntu jammy/universe amd64 libzzip-0-13 amd64 0.13.72+dfsg.1-1.1 [27.0 kB]\n",
            "Get:23 http://archive.ubuntu.com/ubuntu jammy/universe amd64 lilypond-fonts all 2.22.1-2 [2,296 kB]\n",
            "Get:24 http://archive.ubuntu.com/ubuntu jammy/universe amd64 lilypond-data all 2.22.1-2 [818 kB]\n",
            "Get:25 http://archive.ubuntu.com/ubuntu jammy/universe amd64 lilypond amd64 2.22.1-2 [2,046 kB]\n",
            "Get:26 http://archive.ubuntu.com/ubuntu jammy/main amd64 xfonts-encodings all 1:1.0.5-0ubuntu2 [578 kB]\n",
            "Get:27 http://archive.ubuntu.com/ubuntu jammy/main amd64 xfonts-utils amd64 1:7.7+6build2 [94.6 kB]\n",
            "Get:28 http://archive.ubuntu.com/ubuntu jammy/universe amd64 lmodern all 2.004.5-6.1 [9,471 kB]\n",
            "Get:29 http://archive.ubuntu.com/ubuntu jammy/main amd64 t1utils amd64 1.41-4build2 [61.3 kB]\n",
            "Get:30 http://archive.ubuntu.com/ubuntu jammy-updates/universe amd64 texlive-binaries amd64 2021.20210626.59705-1ubuntu0.1 [9,848 kB]\n",
            "Get:31 http://archive.ubuntu.com/ubuntu jammy/universe amd64 texlive-base all 2021.20220204-1 [21.0 MB]\n",
            "Get:32 http://archive.ubuntu.com/ubuntu jammy/universe amd64 texlive-latex-base all 2021.20220204-1 [1,128 kB]\n",
            "Fetched 70.9 MB in 2s (45.7 MB/s)\n",
            "Extracting templates from packages: 100%\n",
            "Preconfiguring packages ...\n",
            "Selecting previously unselected package fonts-droid-fallback.\n",
            "(Reading database ... 120899 files and directories currently installed.)\n",
            "Preparing to unpack .../00-fonts-droid-fallback_1%3a6.0.1r16-1.1build1_all.deb ...\n",
            "Unpacking fonts-droid-fallback (1:6.0.1r16-1.1build1) ...\n",
            "Selecting previously unselected package poppler-data.\n",
            "Preparing to unpack .../01-poppler-data_0.4.11-1_all.deb ...\n",
            "Unpacking poppler-data (0.4.11-1) ...\n",
            "Selecting previously unselected package tex-common.\n",
            "Preparing to unpack .../02-tex-common_6.17_all.deb ...\n",
            "Unpacking tex-common (6.17) ...\n",
            "Selecting previously unselected package fonts-urw-base35.\n",
            "Preparing to unpack .../03-fonts-urw-base35_20200910-1_all.deb ...\n",
            "Unpacking fonts-urw-base35 (20200910-1) ...\n",
            "Selecting previously unselected package libgs9-common.\n",
            "Preparing to unpack .../04-libgs9-common_9.55.0~dfsg1-0ubuntu5.5_all.deb ...\n",
            "Unpacking libgs9-common (9.55.0~dfsg1-0ubuntu5.5) ...\n",
            "Selecting previously unselected package libidn12:amd64.\n",
            "Preparing to unpack .../05-libidn12_1.38-4ubuntu1_amd64.deb ...\n",
            "Unpacking libidn12:amd64 (1.38-4ubuntu1) ...\n",
            "Selecting previously unselected package libijs-0.35:amd64.\n",
            "Preparing to unpack .../06-libijs-0.35_0.35-15build2_amd64.deb ...\n",
            "Unpacking libijs-0.35:amd64 (0.35-15build2) ...\n",
            "Selecting previously unselected package libjbig2dec0:amd64.\n",
            "Preparing to unpack .../07-libjbig2dec0_0.19-3build2_amd64.deb ...\n",
            "Unpacking libjbig2dec0:amd64 (0.19-3build2) ...\n",
            "Selecting previously unselected package libgs9:amd64.\n",
            "Preparing to unpack .../08-libgs9_9.55.0~dfsg1-0ubuntu5.5_amd64.deb ...\n",
            "Unpacking libgs9:amd64 (9.55.0~dfsg1-0ubuntu5.5) ...\n",
            "Selecting previously unselected package libkpathsea6:amd64.\n",
            "Preparing to unpack .../09-libkpathsea6_2021.20210626.59705-1ubuntu0.1_amd64.deb ...\n",
            "Unpacking libkpathsea6:amd64 (2021.20210626.59705-1ubuntu0.1) ...\n",
            "Selecting previously unselected package libwoff1:amd64.\n",
            "Preparing to unpack .../10-libwoff1_1.0.2-1build4_amd64.deb ...\n",
            "Unpacking libwoff1:amd64 (1.0.2-1build4) ...\n",
            "Selecting previously unselected package dvisvgm.\n",
            "Preparing to unpack .../11-dvisvgm_2.13.1-1_amd64.deb ...\n",
            "Unpacking dvisvgm (2.13.1-1) ...\n",
            "Selecting previously unselected package fonts-lmodern.\n",
            "Preparing to unpack .../12-fonts-lmodern_2.004.5-6.1_all.deb ...\n",
            "Unpacking fonts-lmodern (2.004.5-6.1) ...\n",
            "Selecting previously unselected package fonts-noto-mono.\n",
            "Preparing to unpack .../13-fonts-noto-mono_20201225-1build1_all.deb ...\n",
            "Unpacking fonts-noto-mono (20201225-1build1) ...\n",
            "Selecting previously unselected package ghostscript.\n",
            "Preparing to unpack .../14-ghostscript_9.55.0~dfsg1-0ubuntu5.5_amd64.deb ...\n",
            "Unpacking ghostscript (9.55.0~dfsg1-0ubuntu5.5) ...\n",
            "Selecting previously unselected package libfontenc1:amd64.\n",
            "Preparing to unpack .../15-libfontenc1_1%3a1.1.4-1build3_amd64.deb ...\n",
            "Unpacking libfontenc1:amd64 (1:1.1.4-1build3) ...\n",
            "Selecting previously unselected package libptexenc1:amd64.\n",
            "Preparing to unpack .../16-libptexenc1_2021.20210626.59705-1ubuntu0.1_amd64.deb ...\n",
            "Unpacking libptexenc1:amd64 (2021.20210626.59705-1ubuntu0.1) ...\n",
            "Selecting previously unselected package libsynctex2:amd64.\n",
            "Preparing to unpack .../17-libsynctex2_2021.20210626.59705-1ubuntu0.1_amd64.deb ...\n",
            "Unpacking libsynctex2:amd64 (2021.20210626.59705-1ubuntu0.1) ...\n",
            "Selecting previously unselected package libteckit0:amd64.\n",
            "Preparing to unpack .../18-libteckit0_2.5.11+ds1-1_amd64.deb ...\n",
            "Unpacking libteckit0:amd64 (2.5.11+ds1-1) ...\n",
            "Selecting previously unselected package libtexlua53:amd64.\n",
            "Preparing to unpack .../19-libtexlua53_2021.20210626.59705-1ubuntu0.1_amd64.deb ...\n",
            "Unpacking libtexlua53:amd64 (2021.20210626.59705-1ubuntu0.1) ...\n",
            "Selecting previously unselected package libtexluajit2:amd64.\n",
            "Preparing to unpack .../20-libtexluajit2_2021.20210626.59705-1ubuntu0.1_amd64.deb ...\n",
            "Unpacking libtexluajit2:amd64 (2021.20210626.59705-1ubuntu0.1) ...\n",
            "Selecting previously unselected package libzzip-0-13:amd64.\n",
            "Preparing to unpack .../21-libzzip-0-13_0.13.72+dfsg.1-1.1_amd64.deb ...\n",
            "Unpacking libzzip-0-13:amd64 (0.13.72+dfsg.1-1.1) ...\n",
            "Selecting previously unselected package lilypond-fonts.\n",
            "Preparing to unpack .../22-lilypond-fonts_2.22.1-2_all.deb ...\n",
            "Unpacking lilypond-fonts (2.22.1-2) ...\n",
            "Selecting previously unselected package lilypond-data.\n",
            "Preparing to unpack .../23-lilypond-data_2.22.1-2_all.deb ...\n",
            "Unpacking lilypond-data (2.22.1-2) ...\n",
            "Selecting previously unselected package lilypond.\n",
            "Preparing to unpack .../24-lilypond_2.22.1-2_amd64.deb ...\n",
            "Unpacking lilypond (2.22.1-2) ...\n",
            "Selecting previously unselected package xfonts-encodings.\n",
            "Preparing to unpack .../25-xfonts-encodings_1%3a1.0.5-0ubuntu2_all.deb ...\n",
            "Unpacking xfonts-encodings (1:1.0.5-0ubuntu2) ...\n",
            "Selecting previously unselected package xfonts-utils.\n",
            "Preparing to unpack .../26-xfonts-utils_1%3a7.7+6build2_amd64.deb ...\n",
            "Unpacking xfonts-utils (1:7.7+6build2) ...\n",
            "Selecting previously unselected package lmodern.\n",
            "Preparing to unpack .../27-lmodern_2.004.5-6.1_all.deb ...\n",
            "Unpacking lmodern (2.004.5-6.1) ...\n",
            "Selecting previously unselected package t1utils.\n",
            "Preparing to unpack .../28-t1utils_1.41-4build2_amd64.deb ...\n",
            "Unpacking t1utils (1.41-4build2) ...\n",
            "Selecting previously unselected package texlive-binaries.\n",
            "Preparing to unpack .../29-texlive-binaries_2021.20210626.59705-1ubuntu0.1_amd64.deb ...\n",
            "Unpacking texlive-binaries (2021.20210626.59705-1ubuntu0.1) ...\n",
            "Selecting previously unselected package texlive-base.\n",
            "Preparing to unpack .../30-texlive-base_2021.20220204-1_all.deb ...\n",
            "Unpacking texlive-base (2021.20220204-1) ...\n",
            "Selecting previously unselected package texlive-latex-base.\n",
            "Preparing to unpack .../31-texlive-latex-base_2021.20220204-1_all.deb ...\n",
            "Unpacking texlive-latex-base (2021.20220204-1) ...\n",
            "Setting up fonts-noto-mono (20201225-1build1) ...\n",
            "Setting up libwoff1:amd64 (1.0.2-1build4) ...\n",
            "Setting up libtexlua53:amd64 (2021.20210626.59705-1ubuntu0.1) ...\n",
            "Setting up libijs-0.35:amd64 (0.35-15build2) ...\n",
            "Setting up libtexluajit2:amd64 (2021.20210626.59705-1ubuntu0.1) ...\n",
            "Setting up libzzip-0-13:amd64 (0.13.72+dfsg.1-1.1) ...\n",
            "Setting up fonts-urw-base35 (20200910-1) ...\n",
            "Setting up poppler-data (0.4.11-1) ...\n",
            "Setting up tex-common (6.17) ...\n",
            "update-language: texlive-base not installed and configured, doing nothing!\n",
            "Setting up libfontenc1:amd64 (1:1.1.4-1build3) ...\n",
            "Setting up libjbig2dec0:amd64 (0.19-3build2) ...\n",
            "Setting up libteckit0:amd64 (2.5.11+ds1-1) ...\n",
            "Setting up xfonts-encodings (1:1.0.5-0ubuntu2) ...\n",
            "Setting up t1utils (1.41-4build2) ...\n",
            "Setting up libidn12:amd64 (1.38-4ubuntu1) ...\n",
            "Setting up lilypond-fonts (2.22.1-2) ...\n",
            "Setting up libkpathsea6:amd64 (2021.20210626.59705-1ubuntu0.1) ...\n",
            "Setting up fonts-lmodern (2.004.5-6.1) ...\n",
            "Setting up fonts-droid-fallback (1:6.0.1r16-1.1build1) ...\n",
            "Setting up libsynctex2:amd64 (2021.20210626.59705-1ubuntu0.1) ...\n",
            "Setting up libgs9-common (9.55.0~dfsg1-0ubuntu5.5) ...\n",
            "Setting up libgs9:amd64 (9.55.0~dfsg1-0ubuntu5.5) ...\n",
            "Setting up lilypond-data (2.22.1-2) ...\n",
            "Setting up dvisvgm (2.13.1-1) ...\n",
            "Setting up ghostscript (9.55.0~dfsg1-0ubuntu5.5) ...\n",
            "Setting up xfonts-utils (1:7.7+6build2) ...\n",
            "Setting up libptexenc1:amd64 (2021.20210626.59705-1ubuntu0.1) ...\n",
            "Setting up lilypond (2.22.1-2) ...\n",
            "Setting up texlive-binaries (2021.20210626.59705-1ubuntu0.1) ...\n",
            "update-alternatives: using /usr/bin/xdvi-xaw to provide /usr/bin/xdvi.bin (xdvi.bin) in auto mode\n",
            "update-alternatives: using /usr/bin/bibtex.original to provide /usr/bin/bibtex (bibtex) in auto mode\n",
            "Setting up lmodern (2.004.5-6.1) ...\n",
            "Setting up texlive-base (2021.20220204-1) ...\n",
            "/usr/bin/ucfr\n",
            "/usr/bin/ucfr\n",
            "/usr/bin/ucfr\n",
            "/usr/bin/ucfr\n",
            "mktexlsr: Updating /var/lib/texmf/ls-R-TEXLIVEDIST... \n",
            "mktexlsr: Updating /var/lib/texmf/ls-R-TEXMFMAIN... \n",
            "mktexlsr: Updating /var/lib/texmf/ls-R... \n",
            "mktexlsr: Done.\n",
            "tl-paper: setting paper size for dvips to a4: /var/lib/texmf/dvips/config/config-paper.ps\n",
            "tl-paper: setting paper size for dvipdfmx to a4: /var/lib/texmf/dvipdfmx/dvipdfmx-paper.cfg\n",
            "tl-paper: setting paper size for xdvi to a4: /var/lib/texmf/xdvi/XDvi-paper\n",
            "tl-paper: setting paper size for pdftex to a4: /var/lib/texmf/tex/generic/tex-ini-files/pdftexconfig.tex\n",
            "Setting up texlive-latex-base (2021.20220204-1) ...\n",
            "Processing triggers for libc-bin (2.35-0ubuntu3.4) ...\n",
            "/sbin/ldconfig.real: /usr/local/lib/libtbbbind_2_0.so.3 is not a symbolic link\n",
            "\n",
            "/sbin/ldconfig.real: /usr/local/lib/libtbbbind.so.3 is not a symbolic link\n",
            "\n",
            "/sbin/ldconfig.real: /usr/local/lib/libtbbmalloc.so.2 is not a symbolic link\n",
            "\n",
            "/sbin/ldconfig.real: /usr/local/lib/libtbb.so.12 is not a symbolic link\n",
            "\n",
            "/sbin/ldconfig.real: /usr/local/lib/libtbbbind_2_5.so.3 is not a symbolic link\n",
            "\n",
            "/sbin/ldconfig.real: /usr/local/lib/libtbbmalloc_proxy.so.2 is not a symbolic link\n",
            "\n",
            "Processing triggers for man-db (2.10.2-1) ...\n",
            "Processing triggers for fontconfig (2.13.1-4.2ubuntu5) ...\n",
            "Processing triggers for tex-common (6.17) ...\n",
            "Running updmap-sys. This may take some time... done.\n",
            "Running mktexlsr /var/lib/texmf ... done.\n",
            "Building format(s) --all.\n",
            "\tThis may take some time... done.\n"
          ]
        }
      ],
      "source": [
        "# This Python 3 environment comes with many helpful analytics libraries installed\n",
        "# It is defined by the kaggle/python Docker image: https://github.com/kaggle/docker-python\n",
        "# For example, here's several helpful packages to load\n",
        "\n",
        "import numpy as np # linear algebra\n",
        "import pandas as pd # data processing, CSV file I/O (e.g. pd.read_csv)\n",
        "\n",
        "# Input data files are available in the read-only \"../input/\" directory\n",
        "# For example, running this (by clicking run or pressing Shift+Enter) will list all files under the input directory\n",
        "\n",
        "import os\n",
        "for dirname, _, filenames in os.walk('/content/gdrive/MyDrive/major'):\n",
        "    for filename in filenames:\n",
        "        print(os.path.join(dirname, filename))\n",
        "\n",
        "# You can write up to 20GB to the current directory (/kaggle/working/) that gets preserved as output when you create a version using \"Save & Run All\"\n",
        "# You can also write temporary files to /kaggle/temp/, but they won't be saved outside of the current session\n",
        "\n",
        "#Installing dependencies\n",
        "!pip install music21\n",
        "!apt-get install -y lilypond"
      ]
    },
    {
      "cell_type": "code",
      "execution_count": null,
      "metadata": {
        "id": "_oy9CCwNXU_V"
      },
      "outputs": [],
      "source": [
        "#Importing Libraries\n",
        "import tensorflow\n",
        "import numpy as np\n",
        "import pandas as pd\n",
        "from collections import Counter\n",
        "import random\n",
        "import IPython\n",
        "from IPython.display import Image, Audio\n",
        "import music21\n",
        "from music21 import *\n",
        "import matplotlib.pyplot as plt\n",
        "from sklearn.model_selection import train_test_split\n",
        "from tensorflow.keras.models import Sequential\n",
        "from tensorflow.keras.layers import LSTM, Dense, Dropout\n",
        "import tensorflow.keras.backend as K\n",
        "from tensorflow.keras.optimizers import Adamax\n",
        "import seaborn as sns\n",
        "import matplotlib.pyplot as plt\n",
        "import matplotlib.patches as mpatches\n",
        "%matplotlib inline\n",
        "import sys\n",
        "import warnings\n",
        "warnings.filterwarnings(\"ignore\")\n",
        "warnings.simplefilter(\"ignore\")\n",
        "np.random.seed(42)"
      ]
    },
    {
      "cell_type": "code",
      "execution_count": null,
      "metadata": {
        "colab": {
          "background_save": true
        },
        "id": "NuuSAwuHXU_W"
      },
      "outputs": [],
      "source": [
        "#Loading the list of chopin's midi files as stream\n",
        "filepath = \"/content/gdrive/MyDrive/major/classical-music-midi/chopin/\"\n",
        "#Getting midi files\n",
        "all_midis= []\n",
        "for i in os.listdir(filepath):\n",
        "    if i.endswith(\".mid\"):\n",
        "        tr = filepath+i\n",
        "        midi = converter.parse(tr)\n",
        "        all_midis.append(midi)"
      ]
    },
    {
      "cell_type": "code",
      "execution_count": null,
      "metadata": {
        "colab": {
          "background_save": true
        },
        "id": "ufjv9Zy1XU_X",
        "outputId": "e287559c-0616-4721-a433-7836b89773dc"
      },
      "outputs": [
        {
          "name": "stdout",
          "output_type": "stream",
          "text": [
            "Total notes in all the Chopin midis in the dataset: 57894\n"
          ]
        }
      ],
      "source": [
        "#Helping function\n",
        "def extract_notes(file):\n",
        "    notes = []\n",
        "    pick = None\n",
        "    for j in file:\n",
        "        songs = instrument.partitionByInstrument(j)\n",
        "        for part in songs.parts:\n",
        "            pick = part.recurse()\n",
        "            for element in pick:\n",
        "                if isinstance(element, note.Note):\n",
        "                    notes.append(str(element.pitch))\n",
        "                elif isinstance(element, chord.Chord):\n",
        "                    notes.append(\".\".join(str(n) for n in element.normalOrder))\n",
        "\n",
        "    return notes\n",
        "#Getting the list of notes as Corpus\n",
        "Corpus= extract_notes(all_midis)\n",
        "print(\"Total notes in all the Chopin midis in the dataset:\", len(Corpus))"
      ]
    },
    {
      "cell_type": "code",
      "execution_count": null,
      "metadata": {
        "colab": {
          "background_save": true
        },
        "id": "ZlKoP8KuXU_Y",
        "outputId": "e48abc01-0756-4829-8fdf-e9e3b40adb03"
      },
      "outputs": [
        {
          "name": "stdout",
          "output_type": "stream",
          "text": [
            "First fifty values in the Corpus: ['6.10', '6.10.1', '1.6', '11.3.6', '3.6', '1.6', '6.10.1', '10.1', '6.10', '6.10', '6', '1.6', '11.3.6', '3.6', '1.6', '6.10.1', '10.1', '6.10', '1', '1', '8.1', '1.5.8', '8', '8', '8.11.3', '3.8', 'G#2', '3', '3', 'C#3', '3.8', '8.11.3', '8', '8', '8.11.1', '8.1', '1', '6.10', '6.10.1', '1.6', '11.3.6', '3.6', '1.6', '6.10.1', '10.1', '6.10', '6.10', '6', '1.6', '11.3.6']\n"
          ]
        }
      ],
      "source": [
        "print(\"First fifty values in the Corpus:\", Corpus[:50])"
      ]
    },
    {
      "cell_type": "markdown",
      "metadata": {
        "id": "NIENdhHFXU_Y"
      },
      "source": [
        "All these values indicate the notes, as mentioned above.\n",
        "\n",
        "**Printing the music sheet**"
      ]
    },
    {
      "cell_type": "code",
      "execution_count": null,
      "metadata": {
        "colab": {
          "background_save": true
        },
        "id": "rRiXrI39XU_Y",
        "outputId": "c054ff0c-c25f-4c02-8afd-11b36e1ad0c7"
      },
      "outputs": [
        {
          "data": {
            "image/png": "[encoded data removed]",
            "text/plain": [
              "<IPython.core.display.Image object>"
            ]
          },
          "metadata": {},
          "output_type": "display_data"
        }
      ],
      "source": [
        "#First Lets write some functions that we need to look into the data\n",
        "def show(music):\n",
        "    display(Image(str(music.write(\"lily.png\"))))\n",
        "\n",
        "def chords_n_notes(Snippet):\n",
        "    Melody = []\n",
        "    offset = 0 #Incremental\n",
        "    for i in Snippet:\n",
        "        #If it is chord\n",
        "        if (\".\" in i or i.isdigit()):\n",
        "            chord_notes = i.split(\".\") #Seperating the notes in chord\n",
        "            notes = []\n",
        "            for j in chord_notes:\n",
        "                inst_note=int(j)\n",
        "                note_snip = note.Note(inst_note)\n",
        "                notes.append(note_snip)\n",
        "                chord_snip = chord.Chord(notes)\n",
        "                chord_snip.offset = offset\n",
        "                Melody.append(chord_snip)\n",
        "        # pattern is a note\n",
        "        else:\n",
        "            note_snip = note.Note(i)\n",
        "            note_snip.offset = offset\n",
        "            Melody.append(note_snip)\n",
        "        # increase offset each iteration so that notes do not stack\n",
        "        offset += 1\n",
        "    Melody_midi = stream.Stream(Melody)\n",
        "    return Melody_midi\n",
        "\n",
        "Melody_Snippet = chords_n_notes(Corpus[:100])\n",
        "show(Melody_Snippet)"
      ]
    },
    {
      "cell_type": "markdown",
      "metadata": {
        "id": "B21XN7MKXU_Z"
      },
      "source": [
        "**Examine all the notes in the Corpus**"
      ]
    },
    {
      "cell_type": "code",
      "execution_count": null,
      "metadata": {
        "colab": {
          "background_save": true
        },
        "id": "hfiLkDeXXU_Z",
        "outputId": "f71d8543-34b8-43ac-8e9a-a0498dbb7d7f"
      },
      "outputs": [
        {
          "name": "stdout",
          "output_type": "stream",
          "text": [
            "Total unique notes in the Corpus: 397\n"
          ]
        }
      ],
      "source": [
        "#Creating a count dictionary\n",
        "count_num = Counter(Corpus)\n",
        "print(\"Total unique notes in the Corpus:\", len(count_num))"
      ]
    },
    {
      "cell_type": "code",
      "execution_count": null,
      "metadata": {
        "colab": {
          "background_save": true
        },
        "id": "QhGCACq6XU_Z",
        "outputId": "d1479aef-4014-4420-87ba-92ef323906fa"
      },
      "outputs": [
        {
          "name": "stdout",
          "output_type": "stream",
          "text": [
            "Average recurrenc for a note in Corpus: 145.8287153652393\n",
            "Most frequent note in Corpus appeared: 1627 times\n",
            "Least frequent note in Corpus appeared: 1 time\n"
          ]
        }
      ],
      "source": [
        "#Exploring the notes dictionary\n",
        "Notes = list(count_num.keys())\n",
        "Recurrence = list(count_num.values())\n",
        "#Average recurrenc for a note in Corpus\n",
        "def Average(lst):\n",
        "    return sum(lst) / len(lst)\n",
        "print(\"Average recurrenc for a note in Corpus:\", Average(Recurrence))\n",
        "print(\"Most frequent note in Corpus appeared:\", max(Recurrence), \"times\")\n",
        "print(\"Least frequent note in Corpus appeared:\", min(Recurrence), \"time\")"
      ]
    },
    {
      "cell_type": "code",
      "execution_count": null,
      "metadata": {
        "colab": {
          "background_save": true
        },
        "id": "sXmRB1Q5XU_Z",
        "outputId": "4e5b5d24-6020-4cb4-a2be-9d68562efb35"
      },
      "outputs": [
        {
          "data": {
            "image/png": "[encoded data removed]",
            "text/plain": [
              "<Figure size 1800x300 with 1 Axes>"
            ]
          },
          "metadata": {
            "image/png": {
              "height": 315,
              "width": 1470
            }
          },
          "output_type": "display_data"
        }
      ],
      "source": [
        "# Plotting the distribution of Notes\n",
        "plt.figure(figsize=(18,3),facecolor=\"#97BACB\")\n",
        "bins = np.arange(0,(max(Recurrence)), 50)\n",
        "plt.hist(Recurrence, bins=bins, color=\"#97BACB\")\n",
        "plt.axvline(x=100,color=\"#DBACC1\")\n",
        "plt.title(\"Frequency Distribution Of Notes In The Corpus\")\n",
        "plt.xlabel(\"Frequency Of Chords in Corpus\")\n",
        "plt.ylabel(\"Number Of Chords\")\n",
        "plt.show()"
      ]
    },
    {
      "cell_type": "code",
      "execution_count": null,
      "metadata": {
        "colab": {
          "background_save": true
        },
        "id": "B74iW7NcXU_a",
        "outputId": "7b157895-8bb9-4d9e-fc97-02a741330058"
      },
      "outputs": [
        {
          "name": "stdout",
          "output_type": "stream",
          "text": [
            "Total number of notes that occur less than 100 times: 270\n"
          ]
        }
      ],
      "source": [
        "#Getting a list of rare chords\n",
        "rare_note = []\n",
        "for index, (key, value) in enumerate(count_num.items()):\n",
        "    if value < 100:\n",
        "        m =  key\n",
        "        rare_note.append(m)\n",
        "\n",
        "print(\"Total number of notes that occur less than 100 times:\", len(rare_note))"
      ]
    },
    {
      "cell_type": "code",
      "execution_count": null,
      "metadata": {
        "colab": {
          "background_save": true
        },
        "id": "vin8u281XU_a",
        "outputId": "aa69ec33-511b-484c-ec35-e30fb0dd0ec8"
      },
      "outputs": [
        {
          "name": "stdout",
          "output_type": "stream",
          "text": [
            "Length of Corpus after eliminating the rare notes: 53110\n"
          ]
        }
      ],
      "source": [
        "#Eleminating the rare notes\n",
        "# Creating a new list without rare notes\n",
        "filtered_corpus = [element for element in Corpus if element not in rare_note]\n",
        "\n",
        "# Printing the length of the filtered Corpus\n",
        "print(\"Length of Corpus after eliminating the rare notes:\", len(filtered_corpus))\n"
      ]
    },
    {
      "cell_type": "code",
      "execution_count": null,
      "metadata": {
        "colab": {
          "background_save": true
        },
        "id": "0aSi3hn3XU_a",
        "outputId": "874f9dd5-46e3-4293-9369-04805e3426ad"
      },
      "outputs": [
        {
          "name": "stdout",
          "output_type": "stream",
          "text": [
            "Total number of characters: 53110\n",
            "Number of unique characters: 127\n"
          ]
        }
      ],
      "source": [
        "# Storing all the unique characters present in my corpus to bult a mapping dic.\n",
        "symb = sorted(list(set(filtered_corpus)))\n",
        "\n",
        "L_corpus = len(filtered_corpus) #length of corpus\n",
        "L_symb = len(symb) #length of total unique characters\n",
        "\n",
        "#Building dictionary to access the vocabulary from indices and vice versa\n",
        "mapping = dict((c, i) for i, c in enumerate(symb))\n",
        "reverse_mapping = dict((i, c) for i, c in enumerate(symb))\n",
        "\n",
        "print(\"Total number of characters:\", L_corpus)\n",
        "print(\"Number of unique characters:\", L_symb)"
      ]
    },
    {
      "cell_type": "markdown",
      "metadata": {
        "id": "r08O4LGdXU_a"
      },
      "source": [
        "**Encoding and Splitting the Corpus as Labels and Targets**"
      ]
    },
    {
      "cell_type": "code",
      "execution_count": null,
      "metadata": {
        "colab": {
          "background_save": true
        },
        "id": "dJ8vuCHVXU_a",
        "outputId": "3524a7ae-c8a3-46fd-9576-e1753b317fb6"
      },
      "outputs": [
        {
          "name": "stdout",
          "output_type": "stream",
          "text": [
            "Total number of sequences in the Corpus: 53070\n"
          ]
        }
      ],
      "source": [
        "#Splitting the Corpus in equal length of strings and output target\n",
        "length = 40\n",
        "features = []\n",
        "targets = []\n",
        "for i in range(0, L_corpus - length, 1):\n",
        "    feature = filtered_corpus[i:i + length]\n",
        "    target = filtered_corpus[i + length]\n",
        "    features.append([mapping[j] for j in feature])\n",
        "    targets.append(mapping[target])\n",
        "\n",
        "\n",
        "L_datapoints = len(targets)\n",
        "print(\"Total number of sequences in the Corpus:\", L_datapoints)"
      ]
    },
    {
      "cell_type": "code",
      "execution_count": null,
      "metadata": {
        "colab": {
          "background_save": true
        },
        "id": "poWTuO2QXU_a"
      },
      "outputs": [],
      "source": [
        "# reshape X and normalize\n",
        "X = (np.reshape(features, (L_datapoints, length, 1)))/ float(L_symb)\n",
        "# one hot encode the output variable\n",
        "y = tensorflow.keras.utils.to_categorical(targets)"
      ]
    },
    {
      "cell_type": "markdown",
      "metadata": {
        "id": "IfJM2UUBXU_b"
      },
      "source": [
        "**Splitting Train and Seed datasets**"
      ]
    },
    {
      "cell_type": "code",
      "execution_count": null,
      "metadata": {
        "colab": {
          "background_save": true
        },
        "id": "Sus--JtjXU_b"
      },
      "outputs": [],
      "source": [
        "#Taking out a subset of data to be used as seed\n",
        "X_train, X_seed, y_train, y_seed = train_test_split(X, y, test_size=0.2, random_state=42)"
      ]
    },
    {
      "cell_type": "code",
      "execution_count": null,
      "metadata": {
        "colab": {
          "background_save": true
        },
        "id": "3sRdeDD6XU_b"
      },
      "outputs": [],
      "source": [
        "#Initialising the Model\n",
        "model = Sequential()\n",
        "#Adding layers\n",
        "model.add(LSTM(512, input_shape=(X.shape[1], X.shape[2]), return_sequences=True))\n",
        "model.add(Dropout(0.1))\n",
        "model.add(LSTM(256))\n",
        "model.add(Dense(256))\n",
        "model.add(Dropout(0.1))\n",
        "model.add(Dense(y.shape[1], activation='softmax'))\n",
        "#Compiling the model for training\n",
        "opt = Adamax(learning_rate=0.01)\n",
        "model.compile(loss='categorical_crossentropy', optimizer=opt)\n"
      ]
    },
    {
      "cell_type": "code",
      "execution_count": null,
      "metadata": {
        "colab": {
          "background_save": true
        },
        "id": "PRPhpn3aXU_d",
        "outputId": "bce2183b-698a-4676-a70d-36f602f69927"
      },
      "outputs": [
        {
          "name": "stdout",
          "output_type": "stream",
          "text": [
            "Model: \"sequential\"\n",
            "_________________________________________________________________\n",
            " Layer (type)                Output Shape              Param #   \n",
            "=================================================================\n",
            " lstm (LSTM)                 (None, 40, 512)           1052672   \n",
            "                                                                 \n",
            " dropout (Dropout)           (None, 40, 512)           0         \n",
            "                                                                 \n",
            " lstm_1 (LSTM)               (None, 256)               787456    \n",
            "                                                                 \n",
            " dense (Dense)               (None, 256)               65792     \n",
            "                                                                 \n",
            " dropout_1 (Dropout)         (None, 256)               0         \n",
            "                                                                 \n",
            " dense_1 (Dense)             (None, 127)               32639     \n",
            "                                                                 \n",
            "=================================================================\n",
            "Total params: 1938559 (7.40 MB)\n",
            "Trainable params: 1938559 (7.40 MB)\n",
            "Non-trainable params: 0 (0.00 Byte)\n",
            "_________________________________________________________________\n"
          ]
        }
      ],
      "source": [
        "#Model's Summary\n",
        "model.summary()"
      ]
    },
    {
      "cell_type": "code",
      "execution_count": null,
      "metadata": {
        "colab": {
          "background_save": true
        },
        "id": "I3w6LEyeXU_e",
        "outputId": "62df3c92-20ff-4ae0-9201-6b04ef77cd56"
      },
      "outputs": [
        {
          "name": "stdout",
          "output_type": "stream",
          "text": [
            "Epoch 1/200\n",
            "166/166 [==============================] - 543s 3s/step - loss: 4.6894\n",
            "Epoch 2/200\n",
            "166/166 [==============================] - 532s 3s/step - loss: 4.6264\n",
            "Epoch 3/200\n",
            "166/166 [==============================] - 547s 3s/step - loss: 4.6162\n",
            "Epoch 4/200\n",
            "166/166 [==============================] - 545s 3s/step - loss: 4.5642\n",
            "Epoch 5/200\n",
            "166/166 [==============================] - 528s 3s/step - loss: 4.4911\n",
            "Epoch 6/200\n",
            "166/166 [==============================] - 522s 3s/step - loss: 4.4859\n",
            "Epoch 7/200\n",
            "123/166 [=====================>........] - ETA: 2:14 - loss: 4.4871"
          ]
        }
      ],
      "source": [
        "#Training the Model\n",
        "history = model.fit(X_train, y_train, batch_size=256, epochs=200)"
      ]
    },
    {
      "cell_type": "code",
      "execution_count": null,
      "metadata": {
        "id": "f9HizFemXU_f"
      },
      "outputs": [],
      "source": [
        "#Plotting the learnings\n",
        "history_df = pd.DataFrame(history.history)\n",
        "fig = plt.figure(figsize=(15,4), facecolor=\"#97BACB\")\n",
        "fig.suptitle(\"Learning Plot of Model for Loss\")\n",
        "pl=sns.lineplot(data=history_df[\"loss\"],color=\"#444160\")\n",
        "pl.set(ylabel =\"Training Loss\")\n",
        "pl.set(xlabel =\"Epochs\")"
      ]
    },
    {
      "cell_type": "markdown",
      "metadata": {
        "id": "Byvyd9GiXU_f"
      },
      "source": [
        "**Generating the Melody**\n",
        "\n",
        "A function to obtain the generated music"
      ]
    },
    {
      "cell_type": "code",
      "execution_count": null,
      "metadata": {
        "id": "zfSoB61bXU_f"
      },
      "outputs": [],
      "source": [
        "def Malody_Generator(Note_Count):\n",
        "    seed = X_seed[np.random.randint(0,len(X_seed)-1)]\n",
        "    Music = \"\"\n",
        "    Notes_Generated=[]\n",
        "    for i in range(Note_Count):\n",
        "        seed = seed.reshape(1,length,1)\n",
        "        prediction = model.predict(seed, verbose=1)[0]\n",
        "        prediction = np.log(prediction) / 1.0 #diversity\n",
        "        exp_preds = np.exp(prediction)\n",
        "        prediction = exp_preds / np.sum(exp_preds)\n",
        "        index = np.argmax(prediction)\n",
        "        index_N = index/ float(L_symb)\n",
        "        Notes_Generated.append(index)\n",
        "        Music = [reverse_mapping[char] for char in Notes_Generated]\n",
        "        seed = np.insert(seed[0],len(seed[0]),index_N)\n",
        "        seed = seed[1:]\n",
        "    #Now, we have music in form or a list of chords and notes and we want to be a midi file.\n",
        "    Melody = chords_n_notes(Music)\n",
        "    Melody_midi = stream.Stream(Melody)\n",
        "    return Music,Melody_midi\n",
        "\n",
        "\n",
        "#getting the Notes and Melody created by the model\n",
        "Music_notes, Melody = Malody_Generator(300)\n",
        "show(Melody)"
      ]
    },
    {
      "cell_type": "code",
      "execution_count": null,
      "metadata": {
        "colab": {
          "base_uri": "https://localhost:8080/",
          "height": 36
        },
        "id": "NDvLlvMYXU_g",
        "outputId": "5b3629c3-b87e-4a1f-98c1-4a6d0b04b8d7"
      },
      "outputs": [
        {
          "data": {
            "application/vnd.google.colaboratory.intrinsic+json": {
              "type": "string"
            },
            "text/plain": [
              "'/content/gdrive/MyDrive/major/music-generated-lstm/anshul.mid'"
            ]
          },
          "execution_count": 48,
          "metadata": {},
          "output_type": "execute_result"
        }
      ],
      "source": [
        "#To save the generated melody\n",
        "Melody.write('midi','/content/gdrive/MyDrive/major/music-generated-lstm/navya.mid')\n"
      ]
    },
    {
      "cell_type": "code",
      "execution_count": null,
      "metadata": {
        "id": "bgp5NNkoXU_t"
      },
      "outputs": [],
      "source": []
    },
    {
      "cell_type": "code",
      "execution_count": null,
      "metadata": {
        "id": "5tGz8m7als3R"
      },
      "outputs": [],
      "source": []
    }
  ],
  "metadata": {
    "accelerator": "GPU",
    "colab": {
      "provenance": []
    },
    "kernelspec": {
      "display_name": "Python 3",
      "name": "python3"
    },
    "language_info": {
      "codemirror_mode": {
        "name": "ipython",
        "version": 3
      },
      "file_extension": ".py",
      "mimetype": "text/x-python",
      "name": "python",
      "nbconvert_exporter": "python",
      "pygments_lexer": "ipython3",
      "version": "3.10.4"
    }
  },
  "nbformat": 4,
  "nbformat_minor": 0
}